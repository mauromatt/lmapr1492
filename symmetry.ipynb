{
 "cells": [
  {
   "cell_type": "code",
   "execution_count": 16,
   "id": "04bffa63",
   "metadata": {},
   "outputs": [],
   "source": [
    "import numpy as np\n",
    "from pymatgen.ext.matproj import MPRester\n",
    "from pymatgen.core.operations import SymmOp\n",
    "from pymatgen.symmetry.analyzer import SpacegroupAnalyzer\n",
    "from pymatgen.electronic_structure.plotter import BSPlotter\n",
    "from pymatgen.phonon.plotter import PhononBSPlotter\n",
    "from jupyter_jsmol.pymatgen import quick_view\n",
    "from jupyter_jsmol import JsmolView\n",
    "from ipywidgets import Layout, widgets, interact\n",
    "from lmapr1492 import plot_brillouin_zone, get_plot_bs, get_plot_dos, get_plot_bs_and_dos, get_branch_wavevectors\n",
    "from plotly.subplots import make_subplots\n",
    "import plotly.graph_objects as go\n",
    "from jupyter_jsmol import JsmolView\n",
    "from tabulate import tabulate\n"
   ]
  },
  {
   "cell_type": "code",
   "execution_count": 17,
   "id": "c3130a98",
   "metadata": {
    "scrolled": false
   },
   "outputs": [
    {
     "name": "stdout",
     "output_type": "stream",
     "text": [
      "Téléchargement du fichier CIF...\n"
     ]
    },
    {
     "data": {
      "application/vnd.jupyter.widget-view+json": {
       "model_id": "a9df1b60f3af4c45818af6ef2a254e79",
       "version_major": 2,
       "version_minor": 0
      },
      "text/plain": [
       "Retrieving MaterialsDoc documents:   0%|          | 0/1 [00:00<?, ?it/s]"
      ]
     },
     "metadata": {},
     "output_type": "display_data"
    },
    {
     "name": "stdout",
     "output_type": "stream",
     "text": [
      "Téléchargement terminé !\n"
     ]
    }
   ],
   "source": [
    "print(\"Téléchargement du fichier CIF...\")\n",
    "structure = MPRester(\"XOCzg18zLbitVQMZilg0OGK9MJ5rjMXh\").get_structure_by_material_id(\"mp-7173\")\n",
    "CifWriter(structure,0.1, write_magmoms=False).write_file(\"ScSbPt_mp-7173_symmetrized.cif\")\n",
    "print(\"Téléchargement terminé !\")\n",
    "view = quick_view(structure)\n"
   ]
  },
  {
   "cell_type": "code",
   "execution_count": 22,
   "id": "f1376ace",
   "metadata": {},
   "outputs": [],
   "source": [
    "customSym1 = SymmOp.from_xyz_str('-x, -y, -z')\n",
    "customSym2 = SymmOp.from_xyz_str('-x, y, z')\n",
    "customSym3 = SymmOp.from_xyz_str('-x,y, z')"
   ]
  },
  {
   "cell_type": "code",
   "execution_count": 23,
   "id": "9876bd18",
   "metadata": {},
   "outputs": [],
   "source": [
    "Sc = [0.5,0.5,0.5]\n",
    "Sb = [0.0,0.0,0.0]\n",
    "Pt = [0.25,0.25,0.25]"
   ]
  },
  {
   "cell_type": "code",
   "execution_count": 24,
   "id": "99dc85c2",
   "metadata": {},
   "outputs": [],
   "source": [
    "Scres = customSym1.operate(Sc)\n",
    "Sbres = customSym2.operate(Sb)\n",
    "Ptres = customSym3.operate(Pt)"
   ]
  },
  {
   "cell_type": "markdown",
   "id": "441d9cc3",
   "metadata": {},
   "source": [
    "On va maintenant appliquer 3 symétries différentes ( 1 pour chaque atome ).\n",
    "La première opération est une simple inversion du Scandium. La deuxième consiste en une roto-réflexion S2 de l'Antimoine, c'est à dire une rotation d'ordre 2 autour de l'axe z suivie d'une réflexion par le plan y=0. Enfin, la dernière est une réflexion par le plan x=0 de l'atome de Platine."
   ]
  },
  {
   "cell_type": "code",
   "execution_count": 25,
   "id": "cc060fac",
   "metadata": {
    "scrolled": true
   },
   "outputs": [
    {
     "name": "stdout",
     "output_type": "stream",
     "text": [
      "\n",
      "\n",
      "Opération de symétrie                         Atome de départ     Atome d'arrivée\n",
      "--------------------------------------------  ------------------  ----------------------------------\n",
      "On applique une inversion (-x, -y, -z)        [0.5, 0.5, 0.5]     [-0.5 -0.5 -0.5]\n",
      "----------------------------------\n",
      "Rot:\n",
      "[[-1.  0.  0.]\n",
      " [ 0. -1.  0.]\n",
      " [ 0.  0. -1.]]\n",
      "tau\n",
      "[0. 0. 0.]\n",
      "----------------------------------            -----------------   ----------------------------------\n",
      "On applique une roto-réflexion S2 (-x, y, z)  [0.0, 0.0, 0.0]     [0. 0. 0.]\n",
      "----------------------------------\n",
      "Rot:\n",
      "[[-1.  0.  0.]\n",
      " [ 0.  1.  0.]\n",
      " [ 0.  0.  1.]]\n",
      "tau\n",
      "[0. 0. 0.]\n",
      "----------------------------------            -----------------   ----------------------------------\n",
      "On applique une réflexion (-x, y, z)          [0.25, 0.25, 0.25]  [-0.25  0.25  0.25]\n",
      "----------------------------------\n",
      "Rot:\n",
      "[[-1.  0.  0.]\n",
      " [ 0.  1.  0.]\n",
      " [ 0.  0.  1.]]\n",
      "tau\n",
      "[0. 0. 0.]\n",
      "----------------------------------            -----------------   ----------------------------------\n",
      "\n",
      "\n"
     ]
    }
   ],
   "source": [
    "print(\"\\n\")\n",
    "print(tabulate([\n",
    "\t[\"On applique une inversion \"+\"(\"+str(customSym1.as_xyz_str()+\")\"),str(Sc),str(Scres)],\n",
    "\t[\"----------------------------------\",\"\",\"\"],\n",
    "\t[customSym1,\"\",\"\"],\n",
    "\t[\"----------------------------------\",\"-----------------\",\"----------------------------------\"],\n",
    "\t[\"On applique une roto-réflexion S2 \"+\"(\"+str(customSym2.as_xyz_str()+\")\"),str(Sb),str(Sbres)],\n",
    "\t[\"----------------------------------\",\"\",\"\"],\t\n",
    "\t[customSym2,\"\",\"\"],\n",
    "\t[\"----------------------------------\",\"-----------------\",\"----------------------------------\"],\n",
    "\t[\"On applique une réflexion \"+\"(\"+str(customSym3.as_xyz_str()+\")\"),str(Pt),str(Ptres)],\n",
    "\t[\"----------------------------------\",\"\",\"\"],\t\n",
    "\t[customSym3,\"\",\"\"],\n",
    "\t[\"----------------------------------\",\"-----------------\",\"----------------------------------\"]],\n",
    "\theaders=[\"Opération de symétrie\",\"Atome de départ\",\"Atome d'arrivée\"]))\n",
    "print(\"\\n\")"
   ]
  },
  {
   "cell_type": "code",
   "execution_count": null,
   "id": "996b7c0a",
   "metadata": {},
   "outputs": [],
   "source": []
  },
  {
   "cell_type": "code",
   "execution_count": null,
   "id": "d36142b5",
   "metadata": {},
   "outputs": [],
   "source": []
  },
  {
   "cell_type": "code",
   "execution_count": null,
   "id": "8f11a33e",
   "metadata": {},
   "outputs": [],
   "source": []
  }
 ],
 "metadata": {
  "kernelspec": {
   "display_name": "Python 3 (ipykernel)",
   "language": "python",
   "name": "python3"
  },
  "language_info": {
   "codemirror_mode": {
    "name": "ipython",
    "version": 3
   },
   "file_extension": ".py",
   "mimetype": "text/x-python",
   "name": "python",
   "nbconvert_exporter": "python",
   "pygments_lexer": "ipython3",
   "version": "3.9.13"
  }
 },
 "nbformat": 4,
 "nbformat_minor": 5
}
