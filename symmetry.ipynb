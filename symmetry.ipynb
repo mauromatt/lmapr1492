{
 "cells": [
  {
   "cell_type": "code",
   "execution_count": 15,
   "id": "04bffa63",
   "metadata": {},
   "outputs": [],
   "source": [
    "from pymatgen.ext.matproj import MPRester\n",
    "from pymatgen.io.cif import CifWriter\n",
    "from pymatgen.symmetry.analyzer import *\n",
    "from pymatgen.io.cif import *\n",
    "from pymatgen.core.operations import *\n",
    "from tabulate import tabulate\n",
    "from pymatgen.symmetry.site_symmetries import *\n",
    "import matplotlib.pyplot as plt\n",
    "import matplotlib.image as mpimg\n",
    "import numpy as np\n",
    "import itertools\n",
    "import plotly.graph_objects as go\n",
    "from plotly.subplots import make_subplots\n",
    "from pymatgen.symmetry.bandstructure import HighSymmKpath\n",
    "from pymatgen.core.operations import SymmOp"
   ]
  },
  {
   "cell_type": "code",
   "execution_count": 16,
   "id": "c3130a98",
   "metadata": {},
   "outputs": [
    {
     "name": "stdout",
     "output_type": "stream",
     "text": [
      "Téléchargement du fichier CIF...\n"
     ]
    },
    {
     "data": {
      "application/vnd.jupyter.widget-view+json": {
       "model_id": "2ccd238a348a4b288ee3cb4b30c8d0e9",
       "version_major": 2,
       "version_minor": 0
      },
      "text/plain": [
       "Retrieving MaterialsDoc documents:   0%|          | 0/1 [00:00<?, ?it/s]"
      ]
     },
     "metadata": {},
     "output_type": "display_data"
    },
    {
     "name": "stdout",
     "output_type": "stream",
     "text": [
      "Téléchargement terminé !\n"
     ]
    }
   ],
   "source": [
    "print(\"Téléchargement du fichier CIF...\")\n",
    "structure = MPRester(\"XOCzg18zLbitVQMZilg0OGK9MJ5rjMXh\").get_structure_by_material_id(\"mp-7173\")\n",
    "CifWriter(structure,0.1, write_magmoms=False).write_file(\"RbLaS2_mp-9361_symmetrized.cif\")\n",
    "print(\"Téléchargement terminé !\")"
   ]
  },
  {
   "cell_type": "code",
   "execution_count": 17,
   "id": "f1376ace",
   "metadata": {},
   "outputs": [],
   "source": [
    "customSym1 = SymmOp.from_xyz_str('-x, -y, -z')\n",
    "customSym2 = SymmOp.from_xyz_str('y, x, -z')\n",
    "customSym3 = SymmOp.from_xyz_str('x, x-y, z')"
   ]
  },
  {
   "cell_type": "code",
   "execution_count": 23,
   "id": "9876bd18",
   "metadata": {},
   "outputs": [],
   "source": [
    "Rb0 = [0.0,0.0,0.0]\n",
    "La1 = [0.0,0.5,0.0]\n",
    "S2 = [0.75,0.25,0.75]"
   ]
  },
  {
   "cell_type": "code",
   "execution_count": 24,
   "id": "99dc85c2",
   "metadata": {},
   "outputs": [],
   "source": [
    "Rb0res = customSym1.operate(Rb0)\n",
    "La1res = customSym2.operate(La1)\n",
    "S2res = customSym3.operate(S2)"
   ]
  },
  {
   "cell_type": "code",
   "execution_count": 25,
   "id": "dc006e2c",
   "metadata": {},
   "outputs": [
    {
     "name": "stdout",
     "output_type": "stream",
     "text": [
      "\n",
      "\n",
      "Opération de symétrie               Atome de départ     Atome d'arrivée\n",
      "----------------------------------  ------------------  ----------------------------------\n",
      "(-x, -y, -z)                        [0.0, 0.0, 0.0]     [0. 0. 0.]\n",
      "----------------------------------\n",
      "Rot:\n",
      "[[-1.  0.  0.]\n",
      " [ 0. -1.  0.]\n",
      " [ 0.  0. -1.]]\n",
      "tau\n",
      "[0. 0. 0.]\n",
      "----------------------------------  -----------------   ----------------------------------\n",
      "(y, x, -z)                          [0.0, 0.5, 0.0]     [0.5 0.  0. ]\n",
      "----------------------------------\n",
      "Rot:\n",
      "[[ 0.  1.  0.]\n",
      " [ 1.  0.  0.]\n",
      " [ 0.  0. -1.]]\n",
      "tau\n",
      "[0. 0. 0.]\n",
      "----------------------------------  -----------------   ----------------------------------\n",
      "(x, x-y, z)                         [0.75, 0.25, 0.75]  [0.75 0.5  0.75]\n",
      "----------------------------------\n",
      "Rot:\n",
      "[[ 1.  0.  0.]\n",
      " [ 1. -1.  0.]\n",
      " [ 0.  0.  1.]]\n",
      "tau\n",
      "[0. 0. 0.]\n",
      "----------------------------------  -----------------   ----------------------------------\n",
      "\n",
      "\n"
     ]
    }
   ],
   "source": [
    "print(\"\\n\")\n",
    "print(tabulate([\n",
    "\t[\"(\"+str(customSym1.as_xyz_str()+\")\"),str(Rb0),str(Rb0res)],\n",
    "\t[\"----------------------------------\",\"\",\"\"],\n",
    "\t[customSym1,\"\",\"\"],\n",
    "\t[\"----------------------------------\",\"-----------------\",\"----------------------------------\"],\n",
    "\t[\"(\"+str(customSym2.as_xyz_str()+\")\"),str(La1),str(La1res)],\n",
    "\t[\"----------------------------------\",\"\",\"\"],\t\n",
    "\t[customSym2,\"\",\"\"],\n",
    "\t[\"----------------------------------\",\"-----------------\",\"----------------------------------\"],\n",
    "\t[\"(\"+str(customSym3.as_xyz_str()+\")\"),str(S2),str(S2res)],\n",
    "\t[\"----------------------------------\",\"\",\"\"],\t\n",
    "\t[customSym3,\"\",\"\"],\n",
    "\t[\"----------------------------------\",\"-----------------\",\"----------------------------------\"]],\n",
    "\theaders=[\"Opération de symétrie\",\"Atome de départ\",\"Atome d'arrivée\"]))\n",
    "print(\"\\n\")"
   ]
  },
  {
   "cell_type": "code",
   "execution_count": null,
   "id": "cc060fac",
   "metadata": {},
   "outputs": [],
   "source": []
  }
 ],
 "metadata": {
  "kernelspec": {
   "display_name": "Python 3 (ipykernel)",
   "language": "python",
   "name": "python3"
  },
  "language_info": {
   "codemirror_mode": {
    "name": "ipython",
    "version": 3
   },
   "file_extension": ".py",
   "mimetype": "text/x-python",
   "name": "python",
   "nbconvert_exporter": "python",
   "pygments_lexer": "ipython3",
   "version": "3.9.13"
  }
 },
 "nbformat": 4,
 "nbformat_minor": 5
}
