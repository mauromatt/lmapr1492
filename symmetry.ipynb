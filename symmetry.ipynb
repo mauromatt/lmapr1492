{
 "cells": [
  {
   "cell_type": "code",
   "execution_count": 1,
   "id": "04bffa63",
   "metadata": {},
   "outputs": [],
   "source": [
    "from pymatgen.ext.matproj import MPRester\n",
    "from pymatgen.io.cif import CifWriter\n",
    "from pymatgen.symmetry.analyzer import *\n",
    "from pymatgen.io.cif import *\n",
    "from pymatgen.core.operations import *\n",
    "from tabulate import tabulate\n",
    "from pymatgen.symmetry.site_symmetries import *\n",
    "import matplotlib.pyplot as plt\n",
    "import matplotlib.image as mpimg\n",
    "import numpy as np\n",
    "import itertools\n",
    "import plotly.graph_objects as go\n",
    "from plotly.subplots import make_subplots\n",
    "from pymatgen.symmetry.bandstructure import HighSymmKpath\n",
    "from pymatgen.core.operations import SymmOp"
   ]
  },
  {
   "cell_type": "code",
   "execution_count": 2,
   "id": "c3130a98",
   "metadata": {},
   "outputs": [
    {
     "name": "stdout",
     "output_type": "stream",
     "text": [
      "Téléchargement du fichier CIF...\n"
     ]
    },
    {
     "data": {
      "application/vnd.jupyter.widget-view+json": {
       "model_id": "2a15938fe7e34239bf5ce944c7a139b6",
       "version_major": 2,
       "version_minor": 0
      },
      "text/plain": [
       "Retrieving MaterialsDoc documents:   0%|          | 0/1 [00:00<?, ?it/s]"
      ]
     },
     "metadata": {},
     "output_type": "display_data"
    },
    {
     "name": "stdout",
     "output_type": "stream",
     "text": [
      "Téléchargement terminé !\n"
     ]
    }
   ],
   "source": [
    "print(\"Téléchargement du fichier CIF...\")\n",
    "structure = MPRester(\"XOCzg18zLbitVQMZilg0OGK9MJ5rjMXh\").get_structure_by_material_id(\"mp-7173\")\n",
    "CifWriter(structure,0.1, write_magmoms=False).write_file(\"ScSbPt_mp-7173_symmetrized.cif\")\n",
    "print(\"Téléchargement terminé !\")"
   ]
  },
  {
   "cell_type": "code",
   "execution_count": 3,
   "id": "f1376ace",
   "metadata": {},
   "outputs": [],
   "source": [
    "customSym1 = SymmOp.from_xyz_str('-x, -y, -z')\n",
    "customSym2 = SymmOp.from_xyz_str('y, x, -z')\n",
    "customSym3 = SymmOp.from_xyz_str('x, x-y, z')"
   ]
  },
  {
   "cell_type": "code",
   "execution_count": 4,
   "id": "9876bd18",
   "metadata": {},
   "outputs": [],
   "source": [
    "Sc = [0.5,0.5,0.5]\n",
    "Sb = [0.0,0.0,0.0]\n",
    "Pt = [0.25,0.25,0.25]"
   ]
  },
  {
   "cell_type": "code",
   "execution_count": 5,
   "id": "99dc85c2",
   "metadata": {},
   "outputs": [],
   "source": [
    "Scres = customSym1.operate(Sc)\n",
    "Sbres = customSym2.operate(Sb)\n",
    "Ptres = customSym3.operate(Pt)"
   ]
  },
  {
   "cell_type": "code",
   "execution_count": 6,
   "id": "dc006e2c",
   "metadata": {},
   "outputs": [
    {
     "name": "stdout",
     "output_type": "stream",
     "text": [
      "\n",
      "\n",
      "Opération de symétrie               Atome de départ     Atome d'arrivée\n",
      "----------------------------------  ------------------  ----------------------------------\n",
      "(-x, -y, -z)                        [0.5, 0.5, 0.5]     [-0.5 -0.5 -0.5]\n",
      "----------------------------------\n",
      "Rot:\n",
      "[[-1.  0.  0.]\n",
      " [ 0. -1.  0.]\n",
      " [ 0.  0. -1.]]\n",
      "tau\n",
      "[0. 0. 0.]\n",
      "----------------------------------  -----------------   ----------------------------------\n",
      "(y, x, -z)                          [0.0, 0.0, 0.0]     [0. 0. 0.]\n",
      "----------------------------------\n",
      "Rot:\n",
      "[[ 0.  1.  0.]\n",
      " [ 1.  0.  0.]\n",
      " [ 0.  0. -1.]]\n",
      "tau\n",
      "[0. 0. 0.]\n",
      "----------------------------------  -----------------   ----------------------------------\n",
      "(x, x-y, z)                         [0.25, 0.25, 0.25]  [0.25 0.   0.25]\n",
      "----------------------------------\n",
      "Rot:\n",
      "[[ 1.  0.  0.]\n",
      " [ 1. -1.  0.]\n",
      " [ 0.  0.  1.]]\n",
      "tau\n",
      "[0. 0. 0.]\n",
      "----------------------------------  -----------------   ----------------------------------\n",
      "\n",
      "\n"
     ]
    }
   ],
   "source": [
    "print(\"\\n\")\n",
    "print(tabulate([\n",
    "\t[\"(\"+str(customSym1.as_xyz_str()+\")\"),str(Sc),str(Scres)],\n",
    "\t[\"----------------------------------\",\"\",\"\"],\n",
    "\t[customSym1,\"\",\"\"],\n",
    "\t[\"----------------------------------\",\"-----------------\",\"----------------------------------\"],\n",
    "\t[\"(\"+str(customSym2.as_xyz_str()+\")\"),str(Sb),str(Sbres)],\n",
    "\t[\"----------------------------------\",\"\",\"\"],\t\n",
    "\t[customSym2,\"\",\"\"],\n",
    "\t[\"----------------------------------\",\"-----------------\",\"----------------------------------\"],\n",
    "\t[\"(\"+str(customSym3.as_xyz_str()+\")\"),str(Pt),str(Ptres)],\n",
    "\t[\"----------------------------------\",\"\",\"\"],\t\n",
    "\t[customSym3,\"\",\"\"],\n",
    "\t[\"----------------------------------\",\"-----------------\",\"----------------------------------\"]],\n",
    "\theaders=[\"Opération de symétrie\",\"Atome de départ\",\"Atome d'arrivée\"]))\n",
    "print(\"\\n\")"
   ]
  },
  {
   "cell_type": "code",
   "execution_count": null,
   "id": "cc060fac",
   "metadata": {},
   "outputs": [],
   "source": []
  }
 ],
 "metadata": {
  "kernelspec": {
   "display_name": "Python 3 (ipykernel)",
   "language": "python",
   "name": "python3"
  },
  "language_info": {
   "codemirror_mode": {
    "name": "ipython",
    "version": 3
   },
   "file_extension": ".py",
   "mimetype": "text/x-python",
   "name": "python",
   "nbconvert_exporter": "python",
   "pygments_lexer": "ipython3",
   "version": "3.9.13"
  }
 },
 "nbformat": 4,
 "nbformat_minor": 5
}
