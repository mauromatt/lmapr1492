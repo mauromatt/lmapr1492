{
 "cells": [
  {
   "cell_type": "code",
   "execution_count": 4,
   "id": "04bffa63",
   "metadata": {},
   "outputs": [
    {
     "ename": "ImportError",
     "evalue": "cannot import name 'SymmetryUndeterminedError' from 'pymatgen.symmetry.analyzer' (/home/modl/maurom/.local/lib/python3.9/site-packages/pymatgen/symmetry/analyzer.py)",
     "output_type": "error",
     "traceback": [
      "\u001b[0;31m---------------------------------------------------------------------------\u001b[0m",
      "\u001b[0;31mImportError\u001b[0m                               Traceback (most recent call last)",
      "Cell \u001b[0;32mIn[4], line 2\u001b[0m\n\u001b[1;32m      1\u001b[0m \u001b[38;5;28;01mimport\u001b[39;00m \u001b[38;5;21;01mnumpy\u001b[39;00m \u001b[38;5;28;01mas\u001b[39;00m \u001b[38;5;21;01mnp\u001b[39;00m\n\u001b[0;32m----> 2\u001b[0m \u001b[38;5;28;01mfrom\u001b[39;00m \u001b[38;5;21;01mmp_api\u001b[39;00m\u001b[38;5;21;01m.\u001b[39;00m\u001b[38;5;21;01mclient\u001b[39;00m \u001b[38;5;28;01mimport\u001b[39;00m MPRester  \u001b[38;5;66;03m# ✅ Correction ici\u001b[39;00m\n\u001b[1;32m      3\u001b[0m \u001b[38;5;28;01mfrom\u001b[39;00m \u001b[38;5;21;01mpymatgen\u001b[39;00m\u001b[38;5;21;01m.\u001b[39;00m\u001b[38;5;21;01mcore\u001b[39;00m\u001b[38;5;21;01m.\u001b[39;00m\u001b[38;5;21;01moperations\u001b[39;00m \u001b[38;5;28;01mimport\u001b[39;00m SymmOp\n\u001b[1;32m      4\u001b[0m \u001b[38;5;28;01mfrom\u001b[39;00m \u001b[38;5;21;01mpymatgen\u001b[39;00m\u001b[38;5;21;01m.\u001b[39;00m\u001b[38;5;21;01msymmetry\u001b[39;00m\u001b[38;5;21;01m.\u001b[39;00m\u001b[38;5;21;01manalyzer\u001b[39;00m \u001b[38;5;28;01mimport\u001b[39;00m SpacegroupAnalyzer\n",
      "File \u001b[0;32m~/.local/lib/python3.9/site-packages/mp_api/client/__init__.py:8\u001b[0m\n\u001b[1;32m      5\u001b[0m \u001b[38;5;28;01mfrom\u001b[39;00m \u001b[38;5;21;01mimportlib\u001b[39;00m\u001b[38;5;21;01m.\u001b[39;00m\u001b[38;5;21;01mmetadata\u001b[39;00m \u001b[38;5;28;01mimport\u001b[39;00m PackageNotFoundError, version\n\u001b[1;32m      7\u001b[0m \u001b[38;5;28;01mfrom\u001b[39;00m \u001b[38;5;21;01m.\u001b[39;00m\u001b[38;5;21;01mcore\u001b[39;00m \u001b[38;5;28;01mimport\u001b[39;00m MPRestError\n\u001b[0;32m----> 8\u001b[0m \u001b[38;5;28;01mfrom\u001b[39;00m \u001b[38;5;21;01m.\u001b[39;00m\u001b[38;5;21;01mmprester\u001b[39;00m \u001b[38;5;28;01mimport\u001b[39;00m MPRester\n\u001b[1;32m     10\u001b[0m \u001b[38;5;28;01mtry\u001b[39;00m:\n\u001b[1;32m     11\u001b[0m     __version__ \u001b[38;5;241m=\u001b[39m version(\u001b[38;5;124m\"\u001b[39m\u001b[38;5;124mmp_api\u001b[39m\u001b[38;5;124m\"\u001b[39m)\n",
      "File \u001b[0;32m~/.local/lib/python3.9/site-packages/mp_api/client/mprester.py:11\u001b[0m\n\u001b[1;32m      8\u001b[0m \u001b[38;5;28;01mfrom\u001b[39;00m \u001b[38;5;21;01mjson\u001b[39;00m \u001b[38;5;28;01mimport\u001b[39;00m loads\n\u001b[1;32m      9\u001b[0m \u001b[38;5;28;01mfrom\u001b[39;00m \u001b[38;5;21;01mtyping\u001b[39;00m \u001b[38;5;28;01mimport\u001b[39;00m TYPE_CHECKING\n\u001b[0;32m---> 11\u001b[0m \u001b[38;5;28;01mfrom\u001b[39;00m \u001b[38;5;21;01memmet\u001b[39;00m\u001b[38;5;21;01m.\u001b[39;00m\u001b[38;5;21;01mcore\u001b[39;00m\u001b[38;5;21;01m.\u001b[39;00m\u001b[38;5;21;01melectronic_structure\u001b[39;00m \u001b[38;5;28;01mimport\u001b[39;00m BSPathType\n\u001b[1;32m     12\u001b[0m \u001b[38;5;28;01mfrom\u001b[39;00m \u001b[38;5;21;01memmet\u001b[39;00m\u001b[38;5;21;01m.\u001b[39;00m\u001b[38;5;21;01mcore\u001b[39;00m\u001b[38;5;21;01m.\u001b[39;00m\u001b[38;5;21;01mmpid\u001b[39;00m \u001b[38;5;28;01mimport\u001b[39;00m MPID\n\u001b[1;32m     13\u001b[0m \u001b[38;5;28;01mfrom\u001b[39;00m \u001b[38;5;21;01memmet\u001b[39;00m\u001b[38;5;21;01m.\u001b[39;00m\u001b[38;5;21;01mcore\u001b[39;00m\u001b[38;5;21;01m.\u001b[39;00m\u001b[38;5;21;01msettings\u001b[39;00m \u001b[38;5;28;01mimport\u001b[39;00m EmmetSettings\n",
      "File \u001b[0;32m~/.local/lib/python3.9/site-packages/emmet/core/electronic_structure.py:26\u001b[0m\n\u001b[1;32m     23\u001b[0m \u001b[38;5;28;01mfrom\u001b[39;00m \u001b[38;5;21;01mpymatgen\u001b[39;00m\u001b[38;5;21;01m.\u001b[39;00m\u001b[38;5;21;01msymmetry\u001b[39;00m\u001b[38;5;21;01m.\u001b[39;00m\u001b[38;5;21;01mbandstructure\u001b[39;00m \u001b[38;5;28;01mimport\u001b[39;00m HighSymmKpath\n\u001b[1;32m     24\u001b[0m \u001b[38;5;28;01mfrom\u001b[39;00m \u001b[38;5;21;01mtyping_extensions\u001b[39;00m \u001b[38;5;28;01mimport\u001b[39;00m Literal\n\u001b[0;32m---> 26\u001b[0m \u001b[38;5;28;01mfrom\u001b[39;00m \u001b[38;5;21;01memmet\u001b[39;00m\u001b[38;5;21;01m.\u001b[39;00m\u001b[38;5;21;01mcore\u001b[39;00m\u001b[38;5;21;01m.\u001b[39;00m\u001b[38;5;21;01mmaterial_property\u001b[39;00m \u001b[38;5;28;01mimport\u001b[39;00m PropertyDoc\n\u001b[1;32m     27\u001b[0m \u001b[38;5;28;01mfrom\u001b[39;00m \u001b[38;5;21;01memmet\u001b[39;00m\u001b[38;5;21;01m.\u001b[39;00m\u001b[38;5;21;01mcore\u001b[39;00m\u001b[38;5;21;01m.\u001b[39;00m\u001b[38;5;21;01mmpid\u001b[39;00m \u001b[38;5;28;01mimport\u001b[39;00m MPID\n\u001b[1;32m     28\u001b[0m \u001b[38;5;28;01mfrom\u001b[39;00m \u001b[38;5;21;01memmet\u001b[39;00m\u001b[38;5;21;01m.\u001b[39;00m\u001b[38;5;21;01mcore\u001b[39;00m\u001b[38;5;21;01m.\u001b[39;00m\u001b[38;5;21;01msettings\u001b[39;00m \u001b[38;5;28;01mimport\u001b[39;00m EmmetSettings\n",
      "File \u001b[0;32m~/.local/lib/python3.9/site-packages/emmet/core/material_property.py:10\u001b[0m\n\u001b[1;32m      7\u001b[0m \u001b[38;5;28;01mfrom\u001b[39;00m \u001b[38;5;21;01mpymatgen\u001b[39;00m\u001b[38;5;21;01m.\u001b[39;00m\u001b[38;5;21;01mcore\u001b[39;00m \u001b[38;5;28;01mimport\u001b[39;00m Structure\n\u001b[1;32m      8\u001b[0m \u001b[38;5;28;01mfrom\u001b[39;00m \u001b[38;5;21;01mdatetime\u001b[39;00m \u001b[38;5;28;01mimport\u001b[39;00m datetime\n\u001b[0;32m---> 10\u001b[0m \u001b[38;5;28;01mfrom\u001b[39;00m \u001b[38;5;21;01memmet\u001b[39;00m\u001b[38;5;21;01m.\u001b[39;00m\u001b[38;5;21;01mcore\u001b[39;00m\u001b[38;5;21;01m.\u001b[39;00m\u001b[38;5;21;01mmaterial\u001b[39;00m \u001b[38;5;28;01mimport\u001b[39;00m PropertyOrigin\n\u001b[1;32m     11\u001b[0m \u001b[38;5;28;01mfrom\u001b[39;00m \u001b[38;5;21;01memmet\u001b[39;00m\u001b[38;5;21;01m.\u001b[39;00m\u001b[38;5;21;01mcore\u001b[39;00m\u001b[38;5;21;01m.\u001b[39;00m\u001b[38;5;21;01mmpid\u001b[39;00m \u001b[38;5;28;01mimport\u001b[39;00m MPID\n\u001b[1;32m     12\u001b[0m \u001b[38;5;28;01mfrom\u001b[39;00m \u001b[38;5;21;01memmet\u001b[39;00m\u001b[38;5;21;01m.\u001b[39;00m\u001b[38;5;21;01mcore\u001b[39;00m\u001b[38;5;21;01m.\u001b[39;00m\u001b[38;5;21;01mstructure\u001b[39;00m \u001b[38;5;28;01mimport\u001b[39;00m StructureMetadata\n",
      "File \u001b[0;32m~/.local/lib/python3.9/site-packages/emmet/core/material.py:13\u001b[0m\n\u001b[1;32m     10\u001b[0m \u001b[38;5;28;01mfrom\u001b[39;00m \u001b[38;5;21;01mpymatgen\u001b[39;00m\u001b[38;5;21;01m.\u001b[39;00m\u001b[38;5;21;01mcore\u001b[39;00m\u001b[38;5;21;01m.\u001b[39;00m\u001b[38;5;21;01mstructure\u001b[39;00m \u001b[38;5;28;01mimport\u001b[39;00m Molecule\n\u001b[1;32m     12\u001b[0m \u001b[38;5;28;01mfrom\u001b[39;00m \u001b[38;5;21;01memmet\u001b[39;00m\u001b[38;5;21;01m.\u001b[39;00m\u001b[38;5;21;01mcore\u001b[39;00m\u001b[38;5;21;01m.\u001b[39;00m\u001b[38;5;21;01mmpid\u001b[39;00m \u001b[38;5;28;01mimport\u001b[39;00m MPID, MPculeID\n\u001b[0;32m---> 13\u001b[0m \u001b[38;5;28;01mfrom\u001b[39;00m \u001b[38;5;21;01memmet\u001b[39;00m\u001b[38;5;21;01m.\u001b[39;00m\u001b[38;5;21;01mcore\u001b[39;00m\u001b[38;5;21;01m.\u001b[39;00m\u001b[38;5;21;01mstructure\u001b[39;00m \u001b[38;5;28;01mimport\u001b[39;00m MoleculeMetadata, StructureMetadata\n\u001b[1;32m     14\u001b[0m \u001b[38;5;28;01mfrom\u001b[39;00m \u001b[38;5;21;01memmet\u001b[39;00m\u001b[38;5;21;01m.\u001b[39;00m\u001b[38;5;21;01mcore\u001b[39;00m\u001b[38;5;21;01m.\u001b[39;00m\u001b[38;5;21;01mvasp\u001b[39;00m\u001b[38;5;21;01m.\u001b[39;00m\u001b[38;5;21;01mvalidation\u001b[39;00m \u001b[38;5;28;01mimport\u001b[39;00m DeprecationMessage\n\u001b[1;32m     15\u001b[0m \u001b[38;5;28;01mfrom\u001b[39;00m \u001b[38;5;21;01memmet\u001b[39;00m\u001b[38;5;21;01m.\u001b[39;00m\u001b[38;5;21;01mcore\u001b[39;00m\u001b[38;5;21;01m.\u001b[39;00m\u001b[38;5;21;01mcommon\u001b[39;00m \u001b[38;5;28;01mimport\u001b[39;00m convert_datetime\n",
      "File \u001b[0;32m~/.local/lib/python3.9/site-packages/emmet/core/structure.py:13\u001b[0m\n\u001b[1;32m     11\u001b[0m \u001b[38;5;28;01mfrom\u001b[39;00m \u001b[38;5;21;01memmet\u001b[39;00m\u001b[38;5;21;01m.\u001b[39;00m\u001b[38;5;21;01mcore\u001b[39;00m\u001b[38;5;21;01m.\u001b[39;00m\u001b[38;5;21;01mutils\u001b[39;00m \u001b[38;5;28;01mimport\u001b[39;00m get_graph_hash\n\u001b[1;32m     12\u001b[0m \u001b[38;5;28;01mfrom\u001b[39;00m \u001b[38;5;21;01memmet\u001b[39;00m\u001b[38;5;21;01m.\u001b[39;00m\u001b[38;5;21;01mcore\u001b[39;00m\u001b[38;5;21;01m.\u001b[39;00m\u001b[38;5;21;01mbase\u001b[39;00m \u001b[38;5;28;01mimport\u001b[39;00m EmmetBaseModel\n\u001b[0;32m---> 13\u001b[0m \u001b[38;5;28;01mfrom\u001b[39;00m \u001b[38;5;21;01memmet\u001b[39;00m\u001b[38;5;21;01m.\u001b[39;00m\u001b[38;5;21;01mcore\u001b[39;00m\u001b[38;5;21;01m.\u001b[39;00m\u001b[38;5;21;01msymmetry\u001b[39;00m \u001b[38;5;28;01mimport\u001b[39;00m PointGroupData, SymmetryData\n\u001b[1;32m     15\u001b[0m T \u001b[38;5;241m=\u001b[39m TypeVar(\u001b[38;5;124m\"\u001b[39m\u001b[38;5;124mT\u001b[39m\u001b[38;5;124m\"\u001b[39m, bound\u001b[38;5;241m=\u001b[39m\u001b[38;5;124m\"\u001b[39m\u001b[38;5;124mStructureMetadata\u001b[39m\u001b[38;5;124m\"\u001b[39m)\n\u001b[1;32m     16\u001b[0m S \u001b[38;5;241m=\u001b[39m TypeVar(\u001b[38;5;124m\"\u001b[39m\u001b[38;5;124mS\u001b[39m\u001b[38;5;124m\"\u001b[39m, bound\u001b[38;5;241m=\u001b[39m\u001b[38;5;124m\"\u001b[39m\u001b[38;5;124mMoleculeMetadata\u001b[39m\u001b[38;5;124m\"\u001b[39m)\n",
      "File \u001b[0;32m~/.local/lib/python3.9/site-packages/emmet/core/symmetry.py:6\u001b[0m\n\u001b[1;32m      4\u001b[0m \u001b[38;5;28;01mfrom\u001b[39;00m \u001b[38;5;21;01mpymatgen\u001b[39;00m\u001b[38;5;21;01m.\u001b[39;00m\u001b[38;5;21;01mcore\u001b[39;00m \u001b[38;5;28;01mimport\u001b[39;00m Structure\n\u001b[1;32m      5\u001b[0m \u001b[38;5;28;01mfrom\u001b[39;00m \u001b[38;5;21;01mpymatgen\u001b[39;00m\u001b[38;5;21;01m.\u001b[39;00m\u001b[38;5;21;01mcore\u001b[39;00m\u001b[38;5;21;01m.\u001b[39;00m\u001b[38;5;21;01mstructure\u001b[39;00m \u001b[38;5;28;01mimport\u001b[39;00m Molecule\n\u001b[0;32m----> 6\u001b[0m \u001b[38;5;28;01mfrom\u001b[39;00m \u001b[38;5;21;01mpymatgen\u001b[39;00m\u001b[38;5;21;01m.\u001b[39;00m\u001b[38;5;21;01msymmetry\u001b[39;00m\u001b[38;5;21;01m.\u001b[39;00m\u001b[38;5;21;01manalyzer\u001b[39;00m \u001b[38;5;28;01mimport\u001b[39;00m (\n\u001b[1;32m      7\u001b[0m     PointGroupAnalyzer,\n\u001b[1;32m      8\u001b[0m     SpacegroupAnalyzer,\n\u001b[1;32m      9\u001b[0m     spglib,\n\u001b[1;32m     10\u001b[0m     SymmetryUndeterminedError,\n\u001b[1;32m     11\u001b[0m )\n\u001b[1;32m     13\u001b[0m \u001b[38;5;28;01mfrom\u001b[39;00m \u001b[38;5;21;01memmet\u001b[39;00m\u001b[38;5;21;01m.\u001b[39;00m\u001b[38;5;21;01mcore\u001b[39;00m\u001b[38;5;21;01m.\u001b[39;00m\u001b[38;5;21;01msettings\u001b[39;00m \u001b[38;5;28;01mimport\u001b[39;00m EmmetSettings\n\u001b[1;32m     14\u001b[0m \u001b[38;5;28;01mfrom\u001b[39;00m \u001b[38;5;21;01memmet\u001b[39;00m\u001b[38;5;21;01m.\u001b[39;00m\u001b[38;5;21;01mcore\u001b[39;00m\u001b[38;5;21;01m.\u001b[39;00m\u001b[38;5;21;01mutils\u001b[39;00m \u001b[38;5;28;01mimport\u001b[39;00m ValueEnum\n",
      "\u001b[0;31mImportError\u001b[0m: cannot import name 'SymmetryUndeterminedError' from 'pymatgen.symmetry.analyzer' (/home/modl/maurom/.local/lib/python3.9/site-packages/pymatgen/symmetry/analyzer.py)"
     ]
    }
   ],
   "source": [
    "\n",
    "import numpy as np\n",
    "from mp_api.client import MPRester  # ✅ Correction ici\n",
    "from pymatgen.core.operations import SymmOp\n",
    "from pymatgen.symmetry.analyzer import SpacegroupAnalyzer\n",
    "from pymatgen.electronic_structure.plotter import BSPlotter\n",
    "from pymatgen.phonon.plotter import PhononBSPlotter\n",
    "from jupyter_jsmol.pymatgen import quick_view\n",
    "from jupyter_jsmol import JsmolView\n",
    "from ipywidgets import Layout, widgets, interact\n",
    "from lmapr1492 import plot_brillouin_zone, get_plot_bs, get_plot_dos, get_plot_bs_and_dos, get_branch_wavevectors\n",
    "from plotly.subplots import make_subplots\n",
    "import plotly.graph_objects as go\n",
    "from tabulate import tabulate\n",
    "from pymatgen.io.cif import CifWriter"
   ]
  },
  {
   "cell_type": "code",
   "execution_count": 12,
   "id": "c3130a98",
   "metadata": {
    "scrolled": false
   },
   "outputs": [
    {
     "name": "stdout",
     "output_type": "stream",
     "text": [
      "Téléchargement du fichier CIF...\n"
     ]
    },
    {
     "ename": "AttributeError",
     "evalue": "materials is not an attribute of this implementation of MPRester, which only supports functionalityused by 80% of users. If you are looking for the full functionality MPRester, pls install the mp-api .",
     "output_type": "error",
     "traceback": [
      "\u001b[0;31m---------------------------------------------------------------------------\u001b[0m",
      "\u001b[0;31mAttributeError\u001b[0m                            Traceback (most recent call last)",
      "Cell \u001b[0;32mIn[12], line 7\u001b[0m\n\u001b[1;32m      4\u001b[0m API_KEY \u001b[38;5;241m=\u001b[39m \u001b[38;5;124m\"\u001b[39m\u001b[38;5;124m23hOiKlEoGQW353WjxM4GcQtg20eKzYt\u001b[39m\u001b[38;5;124m\"\u001b[39m  \u001b[38;5;66;03m# Remplacez par votre clé API\u001b[39;00m\n\u001b[1;32m      6\u001b[0m \u001b[38;5;28;01mwith\u001b[39;00m MPRester(API_KEY) \u001b[38;5;28;01mas\u001b[39;00m mpr:\n\u001b[0;32m----> 7\u001b[0m     structure \u001b[38;5;241m=\u001b[39m \u001b[43mmpr\u001b[49m\u001b[38;5;241;43m.\u001b[39;49m\u001b[43mmaterials\u001b[49m\u001b[38;5;241m.\u001b[39mget_structure_by_material_id(\u001b[38;5;124m\"\u001b[39m\u001b[38;5;124mmp-10969\u001b[39m\u001b[38;5;124m\"\u001b[39m)  \u001b[38;5;66;03m# Nouvelle API v2\u001b[39;00m\n\u001b[1;32m      8\u001b[0m     CifWriter(structure)\u001b[38;5;241m.\u001b[39mwrite_file(\u001b[38;5;124m\"\u001b[39m\u001b[38;5;124mCdCN2_mp-10969_symmetrized.cif\u001b[39m\u001b[38;5;124m\"\u001b[39m)  \u001b[38;5;66;03m# Écriture du fichier CIF\u001b[39;00m\n\u001b[1;32m     10\u001b[0m \u001b[38;5;28mprint\u001b[39m(\u001b[38;5;124m\"\u001b[39m\u001b[38;5;124mFichier CIF téléchargé avec succès !\u001b[39m\u001b[38;5;124m\"\u001b[39m)\n",
      "File \u001b[0;32m~/.local/lib/python3.9/site-packages/pymatgen/ext/matproj.py:99\u001b[0m, in \u001b[0;36m_MPResterBasic.__getattr__\u001b[0;34m(self, item)\u001b[0m\n\u001b[1;32m     97\u001b[0m \u001b[38;5;28;01mdef\u001b[39;00m \u001b[38;5;21m__getattr__\u001b[39m(\u001b[38;5;28mself\u001b[39m, item):\n\u001b[1;32m     98\u001b[0m     \u001b[38;5;28;01mif\u001b[39;00m item \u001b[38;5;129;01min\u001b[39;00m (\u001b[38;5;124m\"\u001b[39m\u001b[38;5;124msummary\u001b[39m\u001b[38;5;124m\"\u001b[39m, \u001b[38;5;124m\"\u001b[39m\u001b[38;5;124mmaterials\u001b[39m\u001b[38;5;124m\"\u001b[39m, \u001b[38;5;124m\"\u001b[39m\u001b[38;5;124mthermo\u001b[39m\u001b[38;5;124m\"\u001b[39m):\n\u001b[0;32m---> 99\u001b[0m         \u001b[38;5;28;01mraise\u001b[39;00m \u001b[38;5;167;01mAttributeError\u001b[39;00m(\n\u001b[1;32m    100\u001b[0m             \u001b[38;5;124mf\u001b[39m\u001b[38;5;124m\"\u001b[39m\u001b[38;5;132;01m{\u001b[39;00mitem\u001b[38;5;132;01m}\u001b[39;00m\u001b[38;5;124m is not an attribute of this implementation of MPRester, which only supports functionality\u001b[39m\u001b[38;5;124m\"\u001b[39m\n\u001b[1;32m    101\u001b[0m             \u001b[38;5;124m\"\u001b[39m\u001b[38;5;124mused by 80\u001b[39m\u001b[38;5;132;01m% o\u001b[39;00m\u001b[38;5;124mf users. If you are looking for the full functionality MPRester, pls install the mp-api .\u001b[39m\u001b[38;5;124m\"\u001b[39m\n\u001b[1;32m    102\u001b[0m         )\n",
      "\u001b[0;31mAttributeError\u001b[0m: materials is not an attribute of this implementation of MPRester, which only supports functionalityused by 80% of users. If you are looking for the full functionality MPRester, pls install the mp-api ."
     ]
    }
   ],
   "source": [
    "from pymatgen.core import Lattice, Structure\n",
    "print(\"Téléchargement du fichier CIF...\")\n",
    "\n",
    "API_KEY = \"23hOiKlEoGQW353WjxM4GcQtg20eKzYt\"  # Remplacez par votre clé API\n",
    "\n",
    "with MPRester(API_KEY) as mpr:\n",
    "    structure = mpr.materials.get_structure_by_material_id(\"mp-10969\")  # Nouvelle API v2\n",
    "    CifWriter(structure).write_file(\"CdCN2_mp-10969_symmetrized.cif\")  # Écriture du fichier CIF\n",
    "\n",
    "print(\"Fichier CIF téléchargé avec succès !\")\n",
    "\n",
    "\n",
    "coords = [[0.0, 0.0, 0.0], [2/3,1/3,5/6],[2/3,1/3,0.9177]]\n",
    "lattice = Lattice.from_parameters(a=5.28, b=5.28, c=5.28, alpha=39.40,\n",
    "                                  beta=39.40, gamma=39.40)\n",
    "struct = Structure(lattice, [\"Cd\", \"C\",\"N\"], coords)\n",
    "view = JsmolView.from_file(\"CdCN2_mp-7173_symmetrized.cif\", \"{3 3 3}\")\n",
    "display(view)"
   ]
  },
  {
   "cell_type": "code",
   "execution_count": 22,
   "id": "f1376ace",
   "metadata": {},
   "outputs": [],
   "source": [
    "customSym1 = SymmOp.from_xyz_str('-x, -y, -z')\n",
    "customSym2 = SymmOp.from_xyz_str('-x, y, z')\n",
    "customSym3 = SymmOp.from_xyz_str('-x,y, z')"
   ]
  },
  {
   "cell_type": "code",
   "execution_count": 23,
   "id": "9876bd18",
   "metadata": {},
   "outputs": [],
   "source": [
    "Cd = [0.0,0.0,0.0]\n",
    "C = [2/3,1/3,5/6]\n",
    "N = [2/3,1/3,0.9177]"
   ]
  },
  {
   "cell_type": "code",
   "execution_count": 24,
   "id": "99dc85c2",
   "metadata": {},
   "outputs": [],
   "source": [
    "Cdres = customSym1.operate(Cd)\n",
    "Cres = customSym2.operate(C)\n",
    "Nres = customSym3.operate(N)"
   ]
  },
  {
   "cell_type": "markdown",
   "id": "c0bb482b",
   "metadata": {},
   "source": [
    "On va maintenant appliquer 3 symétries différentes ( 1 pour chaque atome ).\n",
    "La première opération est une simple inversion du Scandium. La deuxième consiste en une roto-réflexion S2 de l'Antimoine, c'est à dire une rotation d'ordre 2 autour de l'axe z suivie d'une réflexion par le plan y=0. Enfin, la dernière est une réflexion par le plan x=0 de l'atome de Platine."
   ]
  },
  {
   "cell_type": "code",
   "execution_count": 25,
   "id": "cc060fac",
   "metadata": {
    "scrolled": true
   },
   "outputs": [
    {
     "name": "stdout",
     "output_type": "stream",
     "text": [
      "\n",
      "\n",
      "Opération de symétrie                         Atome de départ     Atome d'arrivée\n",
      "--------------------------------------------  ------------------  ----------------------------------\n",
      "On applique une inversion (-x, -y, -z)        [0.5, 0.5, 0.5]     [-0.5 -0.5 -0.5]\n",
      "----------------------------------\n",
      "Rot:\n",
      "[[-1.  0.  0.]\n",
      " [ 0. -1.  0.]\n",
      " [ 0.  0. -1.]]\n",
      "tau\n",
      "[0. 0. 0.]\n",
      "----------------------------------            -----------------   ----------------------------------\n",
      "On applique une roto-réflexion S2 (-x, y, z)  [0.0, 0.0, 0.0]     [0. 0. 0.]\n",
      "----------------------------------\n",
      "Rot:\n",
      "[[-1.  0.  0.]\n",
      " [ 0.  1.  0.]\n",
      " [ 0.  0.  1.]]\n",
      "tau\n",
      "[0. 0. 0.]\n",
      "----------------------------------            -----------------   ----------------------------------\n",
      "On applique une réflexion (-x, y, z)          [0.25, 0.25, 0.25]  [-0.25  0.25  0.25]\n",
      "----------------------------------\n",
      "Rot:\n",
      "[[-1.  0.  0.]\n",
      " [ 0.  1.  0.]\n",
      " [ 0.  0.  1.]]\n",
      "tau\n",
      "[0. 0. 0.]\n",
      "----------------------------------            -----------------   ----------------------------------\n",
      "\n",
      "\n"
     ]
    }
   ],
   "source": [
    "print(\"\\n\")\n",
    "print(tabulate([\n",
    "\t[\"On applique une inversion \"+\"(\"+str(customSym1.as_xyz_str()+\")\"),str(Sc),str(Scres)],\n",
    "\t[\"----------------------------------\",\"\",\"\"],\n",
    "\t[customSym1,\"\",\"\"],\n",
    "\t[\"----------------------------------\",\"-----------------\",\"----------------------------------\"],\n",
    "\t[\"On applique une roto-réflexion S2 \"+\"(\"+str(customSym2.as_xyz_str()+\")\"),str(Sb),str(Sbres)],\n",
    "\t[\"----------------------------------\",\"\",\"\"],\t\n",
    "\t[customSym2,\"\",\"\"],\n",
    "\t[\"----------------------------------\",\"-----------------\",\"----------------------------------\"],\n",
    "\t[\"On applique une réflexion \"+\"(\"+str(customSym3.as_xyz_str()+\")\"),str(Pt),str(Ptres)],\n",
    "\t[\"----------------------------------\",\"\",\"\"],\t\n",
    "\t[customSym3,\"\",\"\"],\n",
    "\t[\"----------------------------------\",\"-----------------\",\"----------------------------------\"]],\n",
    "\theaders=[\"Opération de symétrie\",\"Atome de départ\",\"Atome d'arrivée\"]))\n",
    "print(\"\\n\")"
   ]
  },
  {
   "cell_type": "code",
   "execution_count": null,
   "id": "996b7c0a",
   "metadata": {},
   "outputs": [],
   "source": []
  },
  {
   "cell_type": "code",
   "execution_count": null,
   "id": "d36142b5",
   "metadata": {},
   "outputs": [],
   "source": []
  },
  {
   "cell_type": "code",
   "execution_count": null,
   "id": "8f11a33e",
   "metadata": {},
   "outputs": [],
   "source": []
  }
 ],
 "metadata": {
  "kernelspec": {
   "display_name": "Python 3 (ipykernel)",
   "language": "python",
   "name": "python3"
  },
  "language_info": {
   "codemirror_mode": {
    "name": "ipython",
    "version": 3
   },
   "file_extension": ".py",
   "mimetype": "text/x-python",
   "name": "python",
   "nbconvert_exporter": "python",
   "pygments_lexer": "ipython3",
   "version": "3.9.13"
  }
 },
 "nbformat": 4,
 "nbformat_minor": 5
}
